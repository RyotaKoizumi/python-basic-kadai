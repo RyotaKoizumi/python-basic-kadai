{
  "nbformat": 4,
  "nbformat_minor": 0,
  "metadata": {
    "colab": {
      "provenance": []
    },
    "kernelspec": {
      "name": "python3",
      "display_name": "Python 3"
    },
    "language_info": {
      "name": "python"
    }
  },
  "cells": [
    {
      "cell_type": "code",
      "source": [
        "top_length = 10\n",
        "bottom_length = 10\n",
        "height= 5\n",
        "\n",
        "# 公式：台形の面積 =（上辺＋下辺）× 高さ ÷ 2\n",
        "area = int((top_length + bottom_length) * height / 2)\n",
        "\n",
        "print(f\"{area}cm\\u00B2です。\")"
      ],
      "metadata": {
        "colab": {
          "base_uri": "https://localhost:8080/"
        },
        "id": "s7vmgc4dtjeW",
        "outputId": "e5efdf38-02ca-4d19-aaf2-ad19d4cd63b2"
      },
      "execution_count": null,
      "outputs": [
        {
          "output_type": "stream",
          "name": "stdout",
          "text": [
            "50cm²です。\n"
          ]
        }
      ]
    }
  ]
}