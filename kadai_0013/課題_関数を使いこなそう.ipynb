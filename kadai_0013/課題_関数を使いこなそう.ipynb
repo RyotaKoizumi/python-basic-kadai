{
  "nbformat": 4,
  "nbformat_minor": 0,
  "metadata": {
    "colab": {
      "provenance": []
    },
    "kernelspec": {
      "name": "python3",
      "display_name": "Python 3"
    },
    "language_info": {
      "name": "python"
    }
  },
  "cells": [
    {
      "cell_type": "code",
      "source": [
        "def total_price(price:int, tax: int):\n",
        "    return price * (1 + tax / 100)\n",
        "\n",
        "print(total_price(1000, 10))\n",
        "\n"
      ],
      "metadata": {
        "colab": {
          "base_uri": "https://localhost:8080/"
        },
        "id": "SZjQX1boH4VT",
        "outputId": "250626aa-5703-4aef-a545-563f1a118fd3"
      },
      "execution_count": 89,
      "outputs": [
        {
          "output_type": "stream",
          "name": "stdout",
          "text": [
            "1100.0\n"
          ]
        }
      ]
    },
    {
      "cell_type": "code",
      "source": [],
      "metadata": {
        "id": "hAElWbAvH3Ri"
      },
      "execution_count": null,
      "outputs": []
    }
  ]
}