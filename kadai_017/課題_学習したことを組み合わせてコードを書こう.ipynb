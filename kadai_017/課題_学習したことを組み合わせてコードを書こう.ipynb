{
  "nbformat": 4,
  "nbformat_minor": 0,
  "metadata": {
    "colab": {
      "provenance": []
    },
    "kernelspec": {
      "name": "python3",
      "display_name": "Python 3"
    },
    "language_info": {
      "name": "python"
    }
  },
  "cells": [
    {
      "cell_type": "code",
      "source": [
        "class Human:\n",
        "    def __init__(self, name, age):\n",
        "        self.name = name\n",
        "        self.age = age\n",
        "\n",
        "    def check_adult(self):\n",
        "        if self.age >= 20:\n",
        "            print(f\"{self.name}は大人です\")\n",
        "        else:\n",
        "            print(f\"{self.name}は未成年です\")\n",
        "\n",
        "human_attributes = [[\"侍太郎\", 39], [\"侍花子\", 24], [\"侍二郎\", 20], [\"侍三郎\", 18], [\"侍四郎\", 12]]\n",
        "human_instances = []\n",
        "\n",
        "for attribute in human_attributes:\n",
        "    human_instances.append(Human(attribute[0], attribute[1]))\n",
        "\n",
        "for human in human_instances:\n",
        "    human.check_adult()\n"
      ],
      "metadata": {
        "id": "SZjQX1boH4VT",
        "colab": {
          "base_uri": "https://localhost:8080/"
        },
        "outputId": "9f2e382e-3f80-44e8-967d-37724900debc"
      },
      "execution_count": 122,
      "outputs": [
        {
          "output_type": "stream",
          "name": "stdout",
          "text": [
            "侍太郎は大人です\n",
            "侍花子は大人です\n",
            "侍二郎は大人です\n",
            "侍三郎は未成年です\n",
            "侍四郎は未成年です\n"
          ]
        }
      ]
    }
  ]
}